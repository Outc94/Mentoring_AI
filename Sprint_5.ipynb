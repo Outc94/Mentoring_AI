{
 "cells": [
  {
   "cell_type": "markdown",
   "metadata": {},
   "source": [
    "# Sprint 5"
   ]
  },
  {
   "cell_type": "markdown",
   "metadata": {},
   "source": [
    "## Problem 1, 2, 3 and 4"
   ]
  },
  {
   "cell_type": "code",
   "execution_count": 1,
   "metadata": {},
   "outputs": [],
   "source": [
    "import numpy as np\n",
    "from numpy.random import *\n",
    "import random"
   ]
  },
  {
   "cell_type": "code",
   "execution_count": 2,
   "metadata": {},
   "outputs": [],
   "source": [
    "class ScratchSVMClassifier():\n",
    "\n",
    "    \"\"\"\n",
    "    SVM分類器のスクラッチ実装\n",
    "    \"\"\"\n",
    "    \n",
    "    def __init__(self, num_iter, lr, bias, Threshold): \n",
    "        self.iter = num_iter\n",
    "        self.lr = lr\n",
    "        self.bias = bias\n",
    "        self.Threshold = Threshold\n",
    "           \n",
    "    def _SVC_hypothesis(self, X, y):\n",
    "        y = y.reshape(-1,1)\n",
    "\n",
    "        for i in range(y.shape[0]):\n",
    "            temp = 0\n",
    "            for j in range(len(y)):\n",
    "                temp += self.lambda_[j] * y[i] * y[j] * np.dot(X[i].T, X[j])\n",
    "            self.lambda_[i] += self.lr * (1 - temp)\n",
    "            self.lambda_[self.lambda_ <= 0] = 0\n",
    "        return self.lambda_\n",
    "    \n",
    "    def fit(self, X, y, X_val=None, y_val=None):\n",
    "        \n",
    "        \"\"\"\n",
    "        SVM分類器を学習します。\n",
    "        検証データが入力されている場合は、そのデータに対する精度も反復ごとに計算されます。\n",
    "        \"\"\"\n",
    "        \n",
    "        np.random.seed(0)\n",
    "        # λの初期値を設定\n",
    "        self.lambda_ = np.random.rand(X.shape[0], 1) * 0.03\n",
    "        \n",
    "        for i in range(self.iter):\n",
    "            self._SVC_hypothesis(X, y)\n",
    "        \n",
    "        # サポートベクターの抽出、仕様\n",
    "        self.index_l = []\n",
    "        for j, i in enumerate(self.lambda_):\n",
    "            if i > self.Threshold:\n",
    "                self.index_l .append(j)\n",
    "        self.lambda_sv = self.lambda_[self.index_l]\n",
    "        self.X_sv = X[self.index_l]\n",
    "        self.y_sv = y[self.index_l]\n",
    "    \n",
    "    def predict(self, X):\n",
    "        \n",
    "        \"\"\"\n",
    "        SVM分類器を使ってラベルを推定します。\n",
    "        \"\"\"\n",
    "        \n",
    "        self.y_pred = 0\n",
    "        for i in range(self.lambda_sv.shape[0]):\n",
    "             self.y_pred += self.lambda_sv[i] * self.y_sv[i] * np.dot(X, self.X_sv[i].T)  \n",
    "        self.y_pred = np.where(self.y_pred > 0, 1, -1)       \n",
    "        return self.y_pred"
   ]
  },
  {
   "cell_type": "code",
   "execution_count": 3,
   "metadata": {},
   "outputs": [],
   "source": [
    "import pandas as pd\n",
    "from sklearn.datasets import load_iris\n",
    "from sklearn.neighbors import KNeighborsClassifier\n",
    "from sklearn.metrics import confusion_matrix\n",
    "from sklearn.metrics import precision_score\n",
    "from sklearn.metrics import recall_score\n",
    "from sklearn.metrics import f1_score\n",
    "from sklearn.model_selection import train_test_split\n",
    "\n",
    "iris = load_iris()\n",
    "X = iris.data[50:,:]\n",
    "y = iris.target[50:]\n",
    "X = X[:,[2,3]]\n",
    "y[y==2] = -1"
   ]
  },
  {
   "cell_type": "code",
   "execution_count": 4,
   "metadata": {},
   "outputs": [],
   "source": [
    "(X_train, X_test, y_train, y_test) = train_test_split(X, y, test_size=0.3, random_state=0)"
   ]
  },
  {
   "cell_type": "code",
   "execution_count": 5,
   "metadata": {},
   "outputs": [],
   "source": [
    "#Standardize the dataset\n",
    "from sklearn.preprocessing import StandardScaler\n",
    "scaler = StandardScaler()\n",
    "scaler.fit(X_train)\n",
    "X_train1 = scaler.transform(X_train)\n",
    "X_test1 = scaler.transform(X_test)"
   ]
  },
  {
   "cell_type": "code",
   "execution_count": 6,
   "metadata": {},
   "outputs": [],
   "source": [
    "SV = ScratchSVMClassifier(num_iter=3000, lr = 0.001, bias=True, Threshold=1e-5)\n",
    "SV.fit(X,y)"
   ]
  },
  {
   "cell_type": "code",
   "execution_count": 7,
   "metadata": {},
   "outputs": [
    {
     "data": {
      "text/plain": [
       "array([[3.3535981 ],\n",
       "       [4.2408595 ],\n",
       "       [3.42996753],\n",
       "       [3.739213  ],\n",
       "       [3.79869028],\n",
       "       [2.68410025],\n",
       "       [4.07336653],\n",
       "       [2.95203536],\n",
       "       [2.30648567],\n",
       "       [4.16047002],\n",
       "       [2.43793864],\n",
       "       [4.09079809],\n",
       "       [1.3715105 ],\n",
       "       [2.42775301],\n",
       "       [3.87419087],\n",
       "       [2.85853763],\n",
       "       [3.20242347],\n",
       "       [0.93234845],\n",
       "       [3.13501872],\n",
       "       [1.85739246],\n",
       "       [4.24070398],\n",
       "       [2.73830538],\n",
       "       [2.04906643],\n",
       "       [0.61221474],\n",
       "       [1.99909946],\n",
       "       [2.36910807],\n",
       "       [1.47665488],\n",
       "       [2.84851713],\n",
       "       [2.60319206],\n",
       "       [1.64792508],\n",
       "       [1.58849203],\n",
       "       [1.19164554],\n",
       "       [1.93864295],\n",
       "       [1.75343151],\n",
       "       [2.36956126],\n",
       "       [2.93196259],\n",
       "       [1.83654081],\n",
       "       [1.24828795],\n",
       "       [1.88368431],\n",
       "       [2.0594224 ],\n",
       "       [0.54240674],\n",
       "       [1.28827431],\n",
       "       [1.39176664],\n",
       "       [1.69761692],\n",
       "       [1.49694196],\n",
       "       [0.87294388],\n",
       "       [1.43832697],\n",
       "       [1.18595815],\n",
       "       [2.8732365 ],\n",
       "       [1.57533264],\n",
       "       [1.60718259],\n",
       "       [3.09637398],\n",
       "       [3.60417987],\n",
       "       [4.56755922],\n",
       "       [2.45831557],\n",
       "       [4.68534802],\n",
       "       [2.40675283],\n",
       "       [5.54699926],\n",
       "       [4.27565248],\n",
       "       [0.52240234],\n",
       "       [1.45035729],\n",
       "       [2.41571357],\n",
       "       [1.55853059],\n",
       "       [1.08001158],\n",
       "       [0.        ],\n",
       "       [0.        ],\n",
       "       [3.28338934],\n",
       "       [3.14133828],\n",
       "       [2.7997775 ],\n",
       "       [3.74018048],\n",
       "       [0.18575497],\n",
       "       [0.42660132],\n",
       "       [3.91939909],\n",
       "       [1.48713021],\n",
       "       [1.15753988],\n",
       "       [3.4826555 ],\n",
       "       [1.10002417],\n",
       "       [1.25371347],\n",
       "       [0.70985252],\n",
       "       [4.08862043],\n",
       "       [2.67439417],\n",
       "       [2.50676963],\n",
       "       [0.        ],\n",
       "       [3.09945331],\n",
       "       [4.51356672],\n",
       "       [0.        ],\n",
       "       [0.        ],\n",
       "       [1.73350998],\n",
       "       [0.46058843],\n",
       "       [0.        ],\n",
       "       [0.        ],\n",
       "       [0.        ],\n",
       "       [0.35320497],\n",
       "       [0.        ],\n",
       "       [0.        ],\n",
       "       [0.        ],\n",
       "       [0.18241379],\n",
       "       [0.        ],\n",
       "       [0.        ],\n",
       "       [0.94680462]])"
      ]
     },
     "execution_count": 7,
     "metadata": {},
     "output_type": "execute_result"
    }
   ],
   "source": [
    "SV.lambda_"
   ]
  },
  {
   "cell_type": "code",
   "execution_count": 8,
   "metadata": {},
   "outputs": [
    {
     "data": {
      "text/plain": [
       "array([-1, -1, -1, -1, -1,  1, -1, -1,  1, -1,  1, -1,  1, -1, -1, -1, -1,\n",
       "        1, -1,  1, -1, -1, -1,  1, -1, -1, -1, -1, -1,  1,  1,  1, -1, -1,\n",
       "       -1, -1, -1, -1, -1, -1,  1, -1, -1, -1, -1,  1, -1, -1, -1, -1, -1,\n",
       "       -1, -1, -1, -1, -1, -1,  1, -1, -1, -1, -1, -1, -1, -1, -1, -1, -1,\n",
       "       -1, -1, -1, -1, -1, -1, -1, -1, -1, -1, -1,  1, -1, -1, -1, -1,  1,\n",
       "       -1, -1, -1, -1, -1, -1, -1, -1, -1, -1, -1, -1, -1, -1, -1])"
      ]
     },
     "execution_count": 8,
     "metadata": {},
     "output_type": "execute_result"
    }
   ],
   "source": [
    "y_pred = SV.predict(X)\n",
    "y_pred"
   ]
  },
  {
   "cell_type": "code",
   "execution_count": 9,
   "metadata": {},
   "outputs": [],
   "source": [
    "SV = ScratchSVMClassifier(num_iter=10000, lr = 0.01, bias=True, Threshold=0.038)\n",
    "SV.fit(X_train1,y_train)\n",
    "y_pred = SV.predict(X_test1)"
   ]
  },
  {
   "cell_type": "code",
   "execution_count": 10,
   "metadata": {},
   "outputs": [
    {
     "name": "stdout",
     "output_type": "stream",
     "text": [
      "1.0\n",
      "0.9333333333333333\n",
      "0.9655172413793104\n",
      "[[15  0]\n",
      " [ 1 14]]\n"
     ]
    }
   ],
   "source": [
    "print(\"{}\".format(precision_score(y_test,y_pred)))\n",
    "print(\"{}\".format(recall_score(y_test,y_pred)))\n",
    "print(\"{}\".format(f1_score(y_test,y_pred)))\n",
    "print(confusion_matrix(y_test, y_pred))"
   ]
  },
  {
   "cell_type": "markdown",
   "metadata": {},
   "source": [
    "## Problem 5"
   ]
  },
  {
   "cell_type": "markdown",
   "metadata": {},
   "source": [
    "Let's visualize the decision are"
   ]
  },
  {
   "cell_type": "code",
   "execution_count": 11,
   "metadata": {},
   "outputs": [],
   "source": [
    "import matplotlib.pyplot as plt\n",
    "from matplotlib.colors import ListedColormap\n",
    "import matplotlib.patches as mpatches\n",
    "def decision_region(X, y, model, step=0.01, title='decision region', xlabel='xlabel', ylabel='ylabel', target_names=['versicolor', 'virginica']):\n",
    "    \n",
    "    # setting\n",
    "    scatter_color = ['red', 'blue']\n",
    "    contourf_color = ['pink', 'skyblue']\n",
    "    n_class = 2\n",
    "    \n",
    "    # pred\n",
    "    mesh_f0, mesh_f1  = np.meshgrid(np.arange(np.min(X[:,0])-0.5, np.max(X[:,0])+0.5, step), np.arange(np.min(X[:,1])-0.5, np.max(X[:,1])+0.5, step))\n",
    "    mesh = np.c_[np.ravel(mesh_f0),np.ravel(mesh_f1)]\n",
    "    y_pred = model.predict(mesh).reshape(mesh_f0.shape)\n",
    "    \n",
    "    # plot\n",
    "    plt.title(title)\n",
    "    plt.xlabel(xlabel)\n",
    "    plt.ylabel(ylabel)\n",
    "    plt.contourf(mesh_f0, mesh_f1, y_pred, n_class-1, cmap=ListedColormap(contourf_color))\n",
    "    plt.contour(mesh_f0, mesh_f1, y_pred, n_class-1, colors='y', linewidths=3, alpha=0.5)\n",
    "    for i, target in enumerate(set(y)):\n",
    "        plt.scatter(X[y==target][:, 0], X[y==target][:, 1], s=80, color=scatter_color[i], label=target_names[i], marker='o')\n",
    "    if model==SV:\n",
    "        plt.scatter(SV.X_sv[:, 0], SV.X_sv[:, 1], s=80, color='yellow', marker='o')\n",
    "    else:\n",
    "        plt.scatter(X_train[svc.support_, 0], X_train[svc.support_, 1], s=80, color='yellow', marker='o')\n",
    "    patches = [mpatches.Patch(color=scatter_color[i], label=target_names[i]) for i in range(n_class)]\n",
    "    plt.legend(handles=patches)\n",
    "    plt.legend()"
   ]
  },
  {
   "cell_type": "code",
   "execution_count": 12,
   "metadata": {},
   "outputs": [],
   "source": [
    "import numpy as np\n",
    "\n",
    "np.random.seed(seed=0)\n",
    "n_samples = 500\n",
    "f0= [-1, 2]\n",
    "f1 = [2, -1]\n",
    "cov = [[1.0,0.8], [0.8, 1.0]]\n",
    "\n",
    "f0 = np.random.multivariate_normal(f0, cov, int(n_samples/2))\n",
    "f1 = np.random.multivariate_normal(f1, cov, int(n_samples/2))\n",
    "\n",
    "X = np.concatenate((f0, f1))\n",
    "y = np.concatenate((np.ones((int(n_samples/2))), np.ones((int(n_samples/2))) *(-1))).astype(np.int)\n",
    "\n",
    "random_index = np.random.permutation(np.arange(n_samples))\n",
    "X = X[random_index]\n",
    "y = y[random_index]\n",
    "X_train, X_test, y_train, y_test = train_test_split(X, y, random_state=42, stratify=y)"
   ]
  },
  {
   "cell_type": "code",
   "execution_count": 13,
   "metadata": {},
   "outputs": [],
   "source": [
    "from sklearn.svm import SVC\n",
    "svc = SVC(random_state=0, C=1e10, kernel='linear')\n",
    "svc.fit(X_train, y_train)\n",
    "svc_pred = svc.predict(X_test)"
   ]
  },
  {
   "cell_type": "code",
   "execution_count": 14,
   "metadata": {},
   "outputs": [
    {
     "data": {
      "image/png": "[encoded data removed]",
      "text/plain": [
       "<Figure size 432x288 with 1 Axes>"
      ]
     },
     "metadata": {
      "needs_background": "light"
     },
     "output_type": "display_data"
    }
   ],
   "source": [
    "decision_region(X_train, y_train, svc, step=0.01, title='With Sklearn', xlabel='xlabel', ylabel='ylabel', target_names=[\"A\" ,'B'])"
   ]
  },
  {
   "cell_type": "code",
   "execution_count": 15,
   "metadata": {},
   "outputs": [],
   "source": [
    "SV = ScratchSVMClassifier(num_iter=500, lr=0.001, bias=True ,Threshold=1e-5)\n",
    "SV.fit(X_train, y_train, X_test, y_test)\n",
    "SV_pred = SV.predict(X_test)"
   ]
  },
  {
   "cell_type": "code",
   "execution_count": 16,
   "metadata": {},
   "outputs": [
    {
     "data": {
      "image/png": "[encoded data removed]",
      "text/plain": [
       "<Figure size 432x288 with 1 Axes>"
      ]
     },
     "metadata": {
      "needs_background": "light"
     },
     "output_type": "display_data"
    }
   ],
   "source": [
    "decision_region(X, y, SV, step=0.01, title='ScratchLogisticRegression', xlabel='xlabel', ylabel='ylabel', target_names=[\"A\" ,'B'])"
   ]
  },
  {
   "cell_type": "code",
   "execution_count": null,
   "metadata": {},
   "outputs": [],
   "source": []
  }
 ],
 "metadata": {
  "kernelspec": {
   "display_name": "Python 3",
   "language": "python",
   "name": "python3"
  },
  "language_info": {
   "codemirror_mode": {
    "name": "ipython",
    "version": 3
   },
   "file_extension": ".py",
   "mimetype": "text/x-python",
   "name": "python",
   "nbconvert_exporter": "python",
   "pygments_lexer": "ipython3",
   "version": "3.8.5"
  }
 },
 "nbformat": 4,
 "nbformat_minor": 2
}
